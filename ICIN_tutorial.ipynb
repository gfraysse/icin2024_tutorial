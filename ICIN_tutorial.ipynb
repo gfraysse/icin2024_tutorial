{
 "cells": [
  {
   "cell_type": "markdown",
   "metadata": {
    "id": "6zoMRgtzvybm"
   },
   "source": [
    "# ICIN 2024 Tutorial: Setting up a Reinforcement Learning pipeline for a Telco Core Network"
   ]
  },
  {
   "cell_type": "markdown",
   "metadata": {},
   "source": [
    "For people who don't have a fully functional Python environment ready, an alterative is to run this notebook inside [Google Colab](https://colab.research.google.com/)"
   ]
  },
  {
   "cell_type": "code",
   "execution_count": null,
   "metadata": {
    "colab": {
     "base_uri": "https://localhost:8080/"
    },
    "id": "i6yZWS_XmiSB",
    "outputId": "ff70b886-8b25-40c1-8446-9a0e658a6aae"
   },
   "outputs": [],
   "source": [
    "!git clone https://github.com/gfraysse/icin2024_tutorial.git"
   ]
  },
  {
   "cell_type": "code",
   "execution_count": null,
   "metadata": {
    "colab": {
     "base_uri": "https://localhost:8080/",
     "height": 1000
    },
    "id": "9tZM51Bxs0EO",
    "outputId": "8706b03d-70f7-4d76-8380-e8f1ea8f966a"
   },
   "outputs": [],
   "source": [
    "!pip install -r icin2024_tutorial/requirements.txt"
   ]
  },
  {
   "cell_type": "code",
   "execution_count": null,
   "metadata": {
    "colab": {
     "base_uri": "https://localhost:8080/"
    },
    "id": "oswM267ruocx",
    "outputId": "0cce150b-4c86-4ada-841f-3c8db82359d2"
   },
   "outputs": [],
   "source": [
    "!python icin2024_tutorial/pipeline-exp_d3qn_per_sim.py"
   ]
  }
 ],
 "metadata": {
  "colab": {
   "provenance": []
  },
  "kernelspec": {
   "display_name": "Python 3 (ipykernel)",
   "language": "python",
   "name": "python3"
  },
  "language_info": {
   "codemirror_mode": {
    "name": "ipython",
    "version": 3
   },
   "file_extension": ".py",
   "mimetype": "text/x-python",
   "name": "python",
   "nbconvert_exporter": "python",
   "pygments_lexer": "ipython3",
   "version": "3.12.1"
  }
 },
 "nbformat": 4,
 "nbformat_minor": 4
}
